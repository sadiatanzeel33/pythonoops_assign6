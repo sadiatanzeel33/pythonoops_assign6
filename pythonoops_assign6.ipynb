{
  "nbformat": 4,
  "nbformat_minor": 0,
  "metadata": {
    "colab": {
      "provenance": [],
      "authorship_tag": "ABX9TyPTmtXjRtV3SMjy1kKfHG/U",
      "include_colab_link": true
    },
    "kernelspec": {
      "name": "python3",
      "display_name": "Python 3"
    },
    "language_info": {
      "name": "python"
    }
  },
  "cells": [
    {
      "cell_type": "markdown",
      "metadata": {
        "id": "view-in-github",
        "colab_type": "text"
      },
      "source": [
        "<a href=\"https://colab.research.google.com/github/sadiatanzeel33/pythonoops_assign6/blob/main/pythonoops_assign6.ipynb\" target=\"_parent\"><img src=\"https://colab.research.google.com/assets/colab-badge.svg\" alt=\"Open In Colab\"/></a>"
      ]
    },
    {
      "cell_type": "code",
      "execution_count": 2,
      "metadata": {
        "colab": {
          "base_uri": "https://localhost:8080/"
        },
        "id": "yoBu4zBHmnqM",
        "outputId": "1f686446-b45f-48ed-95b7-f454c5c7b860"
      },
      "outputs": [
        {
          "output_type": "stream",
          "name": "stdout",
          "text": [
            "Name: Saima, Marks: 75\n",
            "Name: Sidra, Marks: 82\n"
          ]
        }
      ],
      "source": [
        "class Student:\n",
        "    def __init__(self, name, marks):\n",
        "        self.name = name\n",
        "        self.marks = marks\n",
        "\n",
        "    def display(self):\n",
        "        print(f\"Name: {self.name}, Marks: {self.marks}\")\n",
        "\n",
        "# Example usage:\n",
        "student1 = Student(\"Saima\", 75)\n",
        "student1.display()\n",
        "\n",
        "student2 = Student(\"Sidra\", 82)\n",
        "student2.display()"
      ]
    },
    {
      "cell_type": "code",
      "source": [
        "class Counter:\n",
        "    count = 0  # Class variable to track the number of objects\n",
        "\n",
        "    def __init__(self):\n",
        "        Counter.count += 1  # Increment the count when an object is created\n",
        "\n",
        "    @classmethod\n",
        "    def display_count(cls):\n",
        "        print(f\"Total objects created: {cls.count}\")\n",
        "\n",
        "# Example usage:\n",
        "counter1 = Counter()\n",
        "Counter.display_count()\n",
        "\n",
        "counter2 = Counter()\n",
        "Counter.display_count()\n",
        "\n",
        "counter3 = Counter()\n",
        "Counter.display_count()"
      ],
      "metadata": {
        "colab": {
          "base_uri": "https://localhost:8080/"
        },
        "id": "_kMeabxXnId7",
        "outputId": "b74262da-62fc-4d05-ba74-65289e010814"
      },
      "execution_count": 3,
      "outputs": [
        {
          "output_type": "stream",
          "name": "stdout",
          "text": [
            "Total objects created: 1\n",
            "Total objects created: 2\n",
            "Total objects created: 3\n"
          ]
        }
      ]
    },
    {
      "cell_type": "code",
      "source": [
        "class Car:\n",
        "    def __init__(self, brand):\n",
        "        self.brand = brand  # Public variable\n",
        "\n",
        "    def start(self):  # Public method\n",
        "        print(f\"The {self.brand} car has started.\")\n",
        "\n",
        "# Instantiate the Car class\n",
        "my_car = Car(\"Toyota\")\n",
        "\n",
        "# Access the public variable\n",
        "print(f\"Car brand: {my_car.brand}\")\n",
        "\n",
        "# Access the public method\n",
        "my_car.start()"
      ],
      "metadata": {
        "colab": {
          "base_uri": "https://localhost:8080/"
        },
        "id": "2n5fCOP9nkcB",
        "outputId": "61617f8a-bd4c-40c2-e8f7-17a5ad948d76"
      },
      "execution_count": 4,
      "outputs": [
        {
          "output_type": "stream",
          "name": "stdout",
          "text": [
            "Car brand: Toyota\n",
            "The Toyota car has started.\n"
          ]
        }
      ]
    },
    {
      "cell_type": "code",
      "source": [
        "class Bank:\n",
        "    bank_name = \"Meezan Bank\"  # Class variable\n",
        "\n",
        "    @classmethod\n",
        "    def change_bank_name(cls, name):\n",
        "        cls.bank_name = name\n",
        "\n",
        "    def display_bank_name(self):\n",
        "        print(f\"Account held at: {Bank.bank_name}\")\n",
        "\n",
        "# Initial state\n",
        "print(f\"Initial bank name: {Bank.bank_name}\")\n",
        "\n",
        "# Create instances\n",
        "account1 = Bank()\n",
        "account2 = Bank()\n",
        "\n",
        "# Display bank name for instances (should be the initial name)\n",
        "account1.display_bank_name()\n",
        "account2.display_bank_name()\n",
        "\n",
        "# Change the bank name using the class method\n",
        "Bank.change_bank_name(\"Finance\")\n",
        "\n",
        "# Display bank name for instances again (should reflect the change)\n",
        "account1.display_bank_name()\n",
        "account2.display_bank_name()\n",
        "\n",
        "# Access the class variable directly\n",
        "print(f\"Current bank name (via class): {Bank.bank_name}\")"
      ],
      "metadata": {
        "colab": {
          "base_uri": "https://localhost:8080/"
        },
        "id": "sT0RcY_0nnUZ",
        "outputId": "18387380-4a98-4fbe-80c8-6dce72816bd5"
      },
      "execution_count": 6,
      "outputs": [
        {
          "output_type": "stream",
          "name": "stdout",
          "text": [
            "Initial bank name: Meezan Bank\n",
            "Account held at: Meezan Bank\n",
            "Account held at: Meezan Bank\n",
            "Account held at: Finance\n",
            "Account held at: Finance\n",
            "Current bank name (via class): Finance\n"
          ]
        }
      ]
    },
    {
      "cell_type": "code",
      "source": [
        "class MathUtils:\n",
        "    @staticmethod\n",
        "    def add(a, b):\n",
        "        return a + b\n",
        "\n",
        "# Example usage:\n",
        "result = MathUtils.add(8, 2)\n",
        "print(f\"The sum is: {result}\")\n",
        "\n",
        "result2 = MathUtils.add(6, -2)\n",
        "print(f\"The sum is: {result2}\")"
      ],
      "metadata": {
        "colab": {
          "base_uri": "https://localhost:8080/"
        },
        "id": "0FOXpZTYoATI",
        "outputId": "3bb99d33-3ec7-4128-aa77-df94a64d0e68"
      },
      "execution_count": 9,
      "outputs": [
        {
          "output_type": "stream",
          "name": "stdout",
          "text": [
            "The sum is: 10\n",
            "The sum is: 4\n"
          ]
        }
      ]
    },
    {
      "cell_type": "code",
      "source": [
        "class Logger:\n",
        "    def __init__(self):\n",
        "        print(\"Object created.\")\n",
        "\n",
        "    def __del__(self):\n",
        "        print(\"Object destroyed.\")\n",
        "\n",
        "# Example usage:\n",
        "logger1 = Logger()\n",
        "logger2 = Logger()\n",
        "\n",
        "del logger1\n",
        "print(\"End of program (almost).\")"
      ],
      "metadata": {
        "colab": {
          "base_uri": "https://localhost:8080/"
        },
        "id": "MmlHtmUboU1i",
        "outputId": "268a1ee8-15d7-4a9e-eaac-75773def6c3d"
      },
      "execution_count": 10,
      "outputs": [
        {
          "output_type": "stream",
          "name": "stdout",
          "text": [
            "Object created.\n",
            "Object created.\n",
            "Object destroyed.\n",
            "End of program (almost).\n"
          ]
        }
      ]
    },
    {
      "cell_type": "code",
      "source": [
        "class Employee:\n",
        "    def __init__(self, name, salary, ssn):\n",
        "        self.name = name          # Public variable\n",
        "        self._salary = salary     # Protected variable\n",
        "        self.__ssn = ssn          # Private variable\n",
        "\n",
        "    def display_info(self):\n",
        "        print(f\"Name: {self.name}\")\n",
        "        print(f\"Salary: {self._salary}\")\n",
        "        print(f\"SSN: {self.__ssn}\")\n",
        "\n",
        "# Creating an object of the Employee class\n",
        "employee = Employee(\"Saima\", 50000, \"123-45-6789\")\n",
        "\n",
        "# Trying to access all three variables\n",
        "print(\"Public variable (name):\", employee.name)      # Accessible\n",
        "print(\"Protected variable (_salary):\", employee._salary)  # Accessible but should be accessed within class or subclasses\n",
        "try:\n",
        "    print(\"Private variable (__ssn):\", employee.__ssn)  # Will raise an AttributeError\n",
        "except AttributeError as e:\n",
        "    print(\"Error accessing private variable (__ssn):\", e)\n",
        "\n",
        "# Accessing private variable using name-mangling\n",
        "print(\"Private variable (__ssn) via name-mangling:\", employee._Employee__ssn)  # This works\n"
      ],
      "metadata": {
        "colab": {
          "base_uri": "https://localhost:8080/"
        },
        "id": "StuxihXuqAGr",
        "outputId": "6c75b56a-d7f3-4357-a914-4c267504f0da"
      },
      "execution_count": 14,
      "outputs": [
        {
          "output_type": "stream",
          "name": "stdout",
          "text": [
            "Public variable (name): Saima\n",
            "Protected variable (_salary): 50000\n",
            "Error accessing private variable (__ssn): 'Employee' object has no attribute '__ssn'\n",
            "Private variable (__ssn) via name-mangling: 123-45-6789\n"
          ]
        }
      ]
    },
    {
      "cell_type": "code",
      "source": [
        "class Person:\n",
        "    def __init__(self, name):\n",
        "        self.name = name\n",
        "        print(f\"Person created with name: {self.name}\")\n",
        "\n",
        "class Teacher(Person):\n",
        "    def __init__(self, name, subject):\n",
        "        super().__init__(name)  # Call the constructor of the Person class\n",
        "        self.subject = subject\n",
        "        print(f\"Teacher created, teaching {self.subject}\")\n",
        "\n",
        "    def display_details(self):\n",
        "        print(f\"Name: {self.name}, Subject: {self.subject}\")\n",
        "\n",
        "# Example usage:\n",
        "teacher1 = Teacher(\"Ali\", \"Mathematics\")\n",
        "teacher1.display_details()\n",
        "\n",
        "person1 = Person(\"saima\")"
      ],
      "metadata": {
        "colab": {
          "base_uri": "https://localhost:8080/"
        },
        "id": "_bnB6abBqtam",
        "outputId": "7abc6361-2b18-4ecf-ecfb-5d7195e1a601"
      },
      "execution_count": 15,
      "outputs": [
        {
          "output_type": "stream",
          "name": "stdout",
          "text": [
            "Person created with name: Ali\n",
            "Teacher created, teaching Mathematics\n",
            "Name: Ali, Subject: Mathematics\n",
            "Person created with name: saima\n"
          ]
        }
      ]
    },
    {
      "cell_type": "code",
      "source": [
        "from abc import ABC, abstractmethod\n",
        "\n",
        "class Shape(ABC):\n",
        "    @abstractmethod\n",
        "    def area(self):\n",
        "        pass\n",
        "\n",
        "class Rectangle(Shape):\n",
        "    def __init__(self, width, height):\n",
        "        self.width = width\n",
        "        self.height = height\n",
        "\n",
        "    def area(self):\n",
        "        return self.width * self.height\n",
        "\n",
        "# Example usage:\n",
        "rectangle = Rectangle(5, 10)\n",
        "print(f\"Area of the rectangle: {rectangle.area()}\")\n",
        "\n",
        "# Trying to instantiate the abstract class Shape would raise a TypeError:\n",
        "# shape = Shape() # TypeError: Can't instantiate abstract class Shape with abstract methods area"
      ],
      "metadata": {
        "colab": {
          "base_uri": "https://localhost:8080/"
        },
        "id": "vOkKuzPirGNl",
        "outputId": "3097485e-33e3-4028-994e-21e1d82d1160"
      },
      "execution_count": 16,
      "outputs": [
        {
          "output_type": "stream",
          "name": "stdout",
          "text": [
            "Area of the rectangle: 50\n"
          ]
        }
      ]
    },
    {
      "cell_type": "code",
      "source": [
        "class Dog:\n",
        "    def __init__(self, name, breed):\n",
        "        self.name = name\n",
        "        self.breed = breed\n",
        "\n",
        "    def bark(self):\n",
        "        print(f\"{self.name} says: Woof woof!\")\n",
        "\n",
        "# Creating an instance of the Dog class\n",
        "my_dog = Dog(\"Tommy\", \"Golden Retriever\")\n",
        "\n",
        "# Calling the bark method\n",
        "my_dog.bark()\n"
      ],
      "metadata": {
        "colab": {
          "base_uri": "https://localhost:8080/"
        },
        "id": "c9f4_hZ3rYkN",
        "outputId": "a3dbfb51-2070-4739-bc32-b1d5b9d4c4f4"
      },
      "execution_count": 18,
      "outputs": [
        {
          "output_type": "stream",
          "name": "stdout",
          "text": [
            "Tommy says: Woof woof!\n"
          ]
        }
      ]
    },
    {
      "cell_type": "code",
      "source": [
        "class Book:\n",
        "    total_books = 0  # Class variable to keep track of the total number of books\n",
        "\n",
        "    def __init__(self, title, author):\n",
        "        self.title = title\n",
        "        self.author = author\n",
        "        Book.increment_book_count()  # Increment the count when a new book is created\n",
        "\n",
        "    @classmethod\n",
        "    def increment_book_count(cls):\n",
        "        cls.total_books += 1\n",
        "\n",
        "    @classmethod\n",
        "    def display_total_books(cls):\n",
        "        print(f\"Total number of books: {cls.total_books}\")\n",
        "\n",
        "# Example usage:\n",
        "book1 = Book(\"The Great Gatsby\", \"F. Scott Fitzgerald\")\n",
        "Book.display_total_books()\n",
        "\n",
        "book2 = Book(\"To Kill a Mockingbird\", \"Harper Lee\")\n",
        "Book.display_total_books()\n",
        "\n",
        "book3 = Book(\"1984\", \"George Orwell\")\n",
        "Book.display_total_books()"
      ],
      "metadata": {
        "colab": {
          "base_uri": "https://localhost:8080/"
        },
        "id": "nnuRsioarrE6",
        "outputId": "6e190a97-4da0-4b8e-8ece-8634b6d9c701"
      },
      "execution_count": 20,
      "outputs": [
        {
          "output_type": "stream",
          "name": "stdout",
          "text": [
            "Total number of books: 1\n",
            "Total number of books: 2\n",
            "Total number of books: 3\n"
          ]
        }
      ]
    },
    {
      "cell_type": "code",
      "source": [
        "class TemperatureConverter:\n",
        "    @staticmethod\n",
        "    def celsius_to_fahrenheit(c):\n",
        "        \"\"\"Converts Celsius to Fahrenheit.\n",
        "\n",
        "        Args:\n",
        "            c: The temperature in Celsius.\n",
        "\n",
        "        Returns:\n",
        "            The temperature in Fahrenheit.\n",
        "        \"\"\"\n",
        "        fahrenheit = (c * 9/5) + 32\n",
        "        return fahrenheit\n",
        "\n",
        "# Example usage:\n",
        "celsius_temp = 25\n",
        "fahrenheit_temp = TemperatureConverter.celsius_to_fahrenheit(celsius_temp)\n",
        "print(f\"{celsius_temp}°C is equal to {fahrenheit_temp}°F\")\n",
        "\n",
        "celsius_temp_freezing = 0\n",
        "fahrenheit_temp_freezing = TemperatureConverter.celsius_to_fahrenheit(celsius_temp_freezing)\n",
        "print(f\"{celsius_temp_freezing}°C is equal to {fahrenheit_temp_freezing}°F\")\n",
        "\n",
        "celsius_temp_boiling = 100\n",
        "fahrenheit_temp_boiling = TemperatureConverter.celsius_to_fahrenheit(celsius_temp_boiling)\n",
        "print(f\"{celsius_temp_boiling}°C is equal to {fahrenheit_temp_boiling}°F\")"
      ],
      "metadata": {
        "colab": {
          "base_uri": "https://localhost:8080/"
        },
        "id": "lU2jttBJr4Ni",
        "outputId": "4f63f85e-e936-421f-80ef-57f66fdf3966"
      },
      "execution_count": 21,
      "outputs": [
        {
          "output_type": "stream",
          "name": "stdout",
          "text": [
            "25°C is equal to 77.0°F\n",
            "0°C is equal to 32.0°F\n",
            "100°C is equal to 212.0°F\n"
          ]
        }
      ]
    },
    {
      "cell_type": "code",
      "source": [
        "class Engine:\n",
        "    def __init__(self, engine_type):\n",
        "        self.engine_type = engine_type\n",
        "        print(f\"Engine of type '{self.engine_type}' created.\")\n",
        "\n",
        "    def start(self):\n",
        "        print(\"Engine started.\")\n",
        "\n",
        "    def get_engine_type(self):\n",
        "        return self.engine_type\n",
        "\n",
        "class Car:\n",
        "    def __init__(self, model, engine):\n",
        "        self.model = model\n",
        "        self.engine = engine  # Composition: Car has an Engine object\n",
        "        print(f\"Car model '{self.model}' created with an engine.\")\n",
        "\n",
        "    def start_car(self):\n",
        "        print(f\"Starting the {self.model}...\")\n",
        "        self.engine.start()  # Accessing the Engine's start() method\n",
        "\n",
        "    def display_engine_type(self):\n",
        "        engine_info = self.engine.get_engine_type()  # Accessing Engine's get_engine_type()\n",
        "        print(f\"The engine type of the {self.model} is: {engine_info}\")\n",
        "\n",
        "# Example usage:\n",
        "my_engine = Engine(\"V8\")\n",
        "my_car = Car(\"Sedan X\", my_engine)\n",
        "\n",
        "my_car.start_car()\n",
        "my_car.display_engine_type()"
      ],
      "metadata": {
        "colab": {
          "base_uri": "https://localhost:8080/"
        },
        "id": "x0vFTWsnsbVs",
        "outputId": "ec02875e-c16a-487d-cbc9-62a41d0f0235"
      },
      "execution_count": 23,
      "outputs": [
        {
          "output_type": "stream",
          "name": "stdout",
          "text": [
            "Engine of type 'V8' created.\n",
            "Car model 'Sedan X' created with an engine.\n",
            "Starting the Sedan X...\n",
            "Engine started.\n",
            "The engine type of the Sedan X is: V8\n"
          ]
        }
      ]
    },
    {
      "cell_type": "code",
      "source": [
        "class Employee:\n",
        "    def __init__(self, name, employee_id):\n",
        "        self.name = name\n",
        "        self.employee_id = employee_id\n",
        "        print(f\"Employee '{self.name}' with ID {self.employee_id} created.\")\n",
        "\n",
        "    def display_employee_info(self):\n",
        "        print(f\"Employee Name: {self.name}, ID: {self.employee_id}\")\n",
        "\n",
        "class Department:\n",
        "    def __init__(self, name, head=None):\n",
        "        self.name = name\n",
        "        self.head = head  # Aggregation: Department might have an Employee as its head\n",
        "        print(f\"Department '{self.name}' created.\")\n",
        "\n",
        "    def assign_head(self, employee):\n",
        "        if isinstance(employee, Employee):\n",
        "            self.head = employee\n",
        "            print(f\"Employee '{employee.name}' assigned as head of '{self.name}'.\")\n",
        "        else:\n",
        "            print(\"Invalid employee object.\")\n",
        "\n",
        "    def display_department_info(self):\n",
        "        print(f\"Department Name: {self.name}\")\n",
        "        if self.head:\n",
        "            print(\"Department Head:\")\n",
        "            self.head.display_employee_info()\n",
        "        else:\n",
        "            print(\"No head assigned yet.\")\n",
        "\n",
        "# Example usage:\n",
        "employee1 = Employee(\"Ali\", \"E101\")\n",
        "employee2 = Employee(\"Saima\", \"E102\")\n",
        "\n",
        "hr_department = Department(\"Human Resources\")\n",
        "it_department = Department(\"Information Technology\", employee1) # Assigning head during creation\n",
        "\n",
        "hr_department.assign_head(employee2)\n",
        "\n",
        "print(\"\\n--- Department Information ---\")\n",
        "hr_department.display_department_info()\n",
        "it_department.display_department_info()\n",
        "\n",
        "print(\"\\n--- Employee Information (still exists independently) ---\")\n",
        "employee1.display_employee_info()\n",
        "employee2.display_employee_info()\n",
        "\n",
        "# Demonstrating independence: Deleting the department doesn't delete the employee\n",
        "del hr_department\n",
        "print(\"\\nHR Department deleted.\")\n",
        "employee2.display_employee_info() # Employee still exists"
      ],
      "metadata": {
        "colab": {
          "base_uri": "https://localhost:8080/"
        },
        "id": "RCqIAtzxseUt",
        "outputId": "cc5e354a-05b2-4852-81e1-5a861751cfa3"
      },
      "execution_count": 24,
      "outputs": [
        {
          "output_type": "stream",
          "name": "stdout",
          "text": [
            "Employee 'Ali' with ID E101 created.\n",
            "Employee 'Saima' with ID E102 created.\n",
            "Department 'Human Resources' created.\n",
            "Department 'Information Technology' created.\n",
            "Employee 'Saima' assigned as head of 'Human Resources'.\n",
            "\n",
            "--- Department Information ---\n",
            "Department Name: Human Resources\n",
            "Department Head:\n",
            "Employee Name: Saima, ID: E102\n",
            "Department Name: Information Technology\n",
            "Department Head:\n",
            "Employee Name: Ali, ID: E101\n",
            "\n",
            "--- Employee Information (still exists independently) ---\n",
            "Employee Name: Ali, ID: E101\n",
            "Employee Name: Saima, ID: E102\n",
            "\n",
            "HR Department deleted.\n",
            "Employee Name: Saima, ID: E102\n"
          ]
        }
      ]
    },
    {
      "cell_type": "code",
      "source": [
        "class A:\n",
        "    def show(self):\n",
        "        print(\"Show method of class A\")\n",
        "\n",
        "class B(A):\n",
        "    def show(self):\n",
        "        print(\"Show method of class B\")\n",
        "\n",
        "class C(A):\n",
        "    def show(self):\n",
        "        print(\"Show method of class C\")\n",
        "\n",
        "class D(B, C):\n",
        "    pass\n",
        "\n",
        "# Create an object of class D\n",
        "d_object = D()\n",
        "\n",
        "# Call the show() method\n",
        "d_object.show()\n",
        "\n",
        "# Observe the Method Resolution Order (MRO)\n",
        "print(D.mro())"
      ],
      "metadata": {
        "colab": {
          "base_uri": "https://localhost:8080/"
        },
        "id": "7UT82Mces0Jo",
        "outputId": "9ea0db0e-a2f9-4cb2-8406-ebbc8d5855ed"
      },
      "execution_count": 25,
      "outputs": [
        {
          "output_type": "stream",
          "name": "stdout",
          "text": [
            "Show method of class B\n",
            "[<class '__main__.D'>, <class '__main__.B'>, <class '__main__.C'>, <class '__main__.A'>, <class 'object'>]\n"
          ]
        }
      ]
    },
    {
      "cell_type": "code",
      "source": [
        "def log_function_call(func):\n",
        "    def wrapper(*args, **kwargs):\n",
        "        print(\"Function is being called\")\n",
        "        return func(*args, **kwargs)\n",
        "    return wrapper\n",
        "\n",
        "@log_function_call\n",
        "def say_hello():\n",
        "    print(\"Hello!\")\n",
        "\n",
        "# Calling the function\n",
        "say_hello()\n"
      ],
      "metadata": {
        "colab": {
          "base_uri": "https://localhost:8080/"
        },
        "id": "mBbYPT9Xxf3S",
        "outputId": "18f098b8-5e5d-4c04-ea99-2fad61f4ee4e"
      },
      "execution_count": 28,
      "outputs": [
        {
          "output_type": "stream",
          "name": "stdout",
          "text": [
            "Function is being called\n",
            "Hello!\n"
          ]
        }
      ]
    },
    {
      "cell_type": "code",
      "source": [
        "def add_greeting(cls):\n",
        "    class NewClass(cls):\n",
        "        def greet(self):\n",
        "            return \"Hello from Decorator!\"\n",
        "    return NewClass\n",
        "\n",
        "@add_greeting\n",
        "class Person:\n",
        "    def __init__(self, name):\n",
        "        self.name = name\n",
        "\n",
        "# Creating an instance of Person\n",
        "p = Person(\"Alice\")\n",
        "print(p.greet())  # Output: Hello from Decorator!\n"
      ],
      "metadata": {
        "colab": {
          "base_uri": "https://localhost:8080/"
        },
        "id": "jWlKC0dHxjtU",
        "outputId": "8e06769a-d46d-447b-f9b3-cb6702acdfbb"
      },
      "execution_count": 29,
      "outputs": [
        {
          "output_type": "stream",
          "name": "stdout",
          "text": [
            "Hello from Decorator!\n"
          ]
        }
      ]
    },
    {
      "cell_type": "code",
      "source": [
        "class Product:\n",
        "    def __init__(self, price):\n",
        "        self._price = price  # Private attribute\n",
        "\n",
        "    @property\n",
        "    def price(self):\n",
        "        \"\"\"Getter method for price\"\"\"\n",
        "        print(\"Getting price...\")\n",
        "        return self._price\n",
        "\n",
        "    @price.setter\n",
        "    def price(self, new_price):\n",
        "        \"\"\"Setter method for price\"\"\"\n",
        "        if new_price >= 0:\n",
        "            print(\"Updating price...\")\n",
        "            self._price = new_price\n",
        "        else:\n",
        "            print(\"Price cannot be negative!\")\n",
        "\n",
        "    @price.deleter\n",
        "    def price(self):\n",
        "        \"\"\"Deleter method for price\"\"\"\n",
        "        print(\"Deleting price...\")\n",
        "        del self._price\n",
        "\n",
        "# Testing the Product class\n",
        "product = Product(100)\n",
        "\n",
        "# Accessing the price\n",
        "print(\"Price:\", product.price)\n",
        "\n",
        "# Updating the price\n",
        "product.price = 150\n",
        "print(\"Updated Price:\", product.price)\n",
        "\n",
        "# Deleting the price\n",
        "del product.price\n",
        "\n",
        "# Trying to access the deleted price (will raise an AttributeError)\n",
        "try:\n",
        "    print(product.price)\n",
        "except AttributeError as e:\n",
        "    print(\"Error:\", e)\n"
      ],
      "metadata": {
        "colab": {
          "base_uri": "https://localhost:8080/"
        },
        "id": "msJT7pyzx5Y7",
        "outputId": "2560c755-8274-4590-85e1-1f95b88bec90"
      },
      "execution_count": 30,
      "outputs": [
        {
          "output_type": "stream",
          "name": "stdout",
          "text": [
            "Getting price...\n",
            "Price: 100\n",
            "Updating price...\n",
            "Getting price...\n",
            "Updated Price: 150\n",
            "Deleting price...\n",
            "Getting price...\n",
            "Error: 'Product' object has no attribute '_price'\n"
          ]
        }
      ]
    },
    {
      "cell_type": "code",
      "source": [
        "class Multiplier:\n",
        "    def __init__(self, factor):\n",
        "        \"\"\"Initialize with a multiplication factor.\"\"\"\n",
        "        self.factor = factor\n",
        "\n",
        "    def __call__(self, number):\n",
        "        \"\"\"Multiply the input number by the factor.\"\"\"\n",
        "        return number * self.factor\n",
        "\n",
        "# Creating an instance of Multiplier\n",
        "times_three = Multiplier(3)\n",
        "\n",
        "# Checking if the object is callable\n",
        "print(\"Is times_three callable?\", callable(times_three))  # Should return True\n",
        "\n",
        "# Calling the object like a function\n",
        "print(\"Multiplying 5 by the factor:\", times_three(5))  # Should return 15\n",
        "print(\"Multiplying 10 by the factor:\", times_three(10))  # Should return 30\n"
      ],
      "metadata": {
        "colab": {
          "base_uri": "https://localhost:8080/"
        },
        "id": "rFQjKib6x9Pc",
        "outputId": "61072d0b-97a8-4062-9126-7bd727be457d"
      },
      "execution_count": 31,
      "outputs": [
        {
          "output_type": "stream",
          "name": "stdout",
          "text": [
            "Is times_three callable? True\n",
            "Multiplying 5 by the factor: 15\n",
            "Multiplying 10 by the factor: 30\n"
          ]
        }
      ]
    },
    {
      "cell_type": "code",
      "source": [
        "class InvalidAgeError(Exception):\n",
        "    \"\"\"Custom exception for invalid age.\"\"\"\n",
        "    def __init__(self, message=\"Age must be at least 18\"):\n",
        "        super().__init__(message)\n",
        "\n",
        "def check_age(age):\n",
        "    \"\"\"Raises InvalidAgeError if age is less than 18.\"\"\"\n",
        "    if age < 18:\n",
        "        raise InvalidAgeError(f\"Invalid age: {age}. Must be at least 18.\")\n",
        "    else:\n",
        "        print(\"Age is valid.\")\n",
        "\n",
        "# Testing with try...except\n",
        "try:\n",
        "    check_age(16)  # This should raise InvalidAgeError\n",
        "except InvalidAgeError as e:\n",
        "    print(\"Exception caught:\", e)\n",
        "\n",
        "# Testing a valid age\n",
        "check_age(20)  # This should print \"Age is valid.\"\n"
      ],
      "metadata": {
        "colab": {
          "base_uri": "https://localhost:8080/"
        },
        "id": "WH0j3Az5yH1H",
        "outputId": "2462b536-5823-43a7-88bd-b7983240b231"
      },
      "execution_count": 32,
      "outputs": [
        {
          "output_type": "stream",
          "name": "stdout",
          "text": [
            "Exception caught: Invalid age: 16. Must be at least 18.\n",
            "Age is valid.\n"
          ]
        }
      ]
    },
    {
      "cell_type": "code",
      "source": [
        "class Countdown:\n",
        "    def __init__(self, start):\n",
        "        \"\"\"Initialize the countdown with the starting number.\"\"\"\n",
        "        self.current = start\n",
        "\n",
        "    def __iter__(self):\n",
        "        \"\"\"Return the iterator object itself.\"\"\"\n",
        "        return self\n",
        "\n",
        "    def __next__(self):\n",
        "        \"\"\"Return the next number in the countdown.\"\"\"\n",
        "        if self.current < 0:\n",
        "            raise StopIteration  # Stop when reaching 0\n",
        "        value = self.current\n",
        "        self.current -= 1\n",
        "        return value\n",
        "\n",
        "# Testing the Countdown class in a for-loop\n",
        "for number in Countdown(5):\n",
        "    print(number)\n"
      ],
      "metadata": {
        "colab": {
          "base_uri": "https://localhost:8080/"
        },
        "id": "DDy2AqkPyQRe",
        "outputId": "9e205366-36ba-4907-89a5-44e5b102a509"
      },
      "execution_count": 33,
      "outputs": [
        {
          "output_type": "stream",
          "name": "stdout",
          "text": [
            "5\n",
            "4\n",
            "3\n",
            "2\n",
            "1\n",
            "0\n"
          ]
        }
      ]
    }
  ]
}